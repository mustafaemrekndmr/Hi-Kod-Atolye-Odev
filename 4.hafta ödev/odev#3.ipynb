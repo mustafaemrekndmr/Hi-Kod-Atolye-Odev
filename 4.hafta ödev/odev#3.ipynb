{
 "cells": [
  {
   "cell_type": "code",
   "execution_count": 1,
   "id": "00998d9b",
   "metadata": {},
   "outputs": [],
   "source": [
    "meyveler = [\"Elma\", \"Muz\", \"Portakal\", \"Şeftali\", \"Kiraz\"]"
   ]
  },
  {
   "cell_type": "code",
   "execution_count": 3,
   "id": "29000587",
   "metadata": {},
   "outputs": [
    {
     "name": "stdout",
     "output_type": "stream",
     "text": [
      "0. indeksteki meyve Elma dir.\n",
      "\n",
      "1. indeksteki meyve Muz dir.\n",
      "\n",
      "2. indeksteki meyve Portakal dir.\n",
      "\n",
      "3. indeksteki meyve Şeftali dir.\n",
      "\n",
      "4. indeksteki meyve Kiraz dir.\n",
      "\n"
     ]
    }
   ],
   "source": [
    "for i, meyve in enumerate(meyveler):\n",
    "    print(f\"{i}. indeksteki meyve {meyve} dir.\\n\")"
   ]
  },
  {
   "cell_type": "code",
   "execution_count": null,
   "id": "031691a1",
   "metadata": {},
   "outputs": [],
   "source": []
  }
 ],
 "metadata": {
  "kernelspec": {
   "display_name": "Python 3 (ipykernel)",
   "language": "python",
   "name": "python3"
  },
  "language_info": {
   "codemirror_mode": {
    "name": "ipython",
    "version": 3
   },
   "file_extension": ".py",
   "mimetype": "text/x-python",
   "name": "python",
   "nbconvert_exporter": "python",
   "pygments_lexer": "ipython3",
   "version": "3.11.7"
  }
 },
 "nbformat": 4,
 "nbformat_minor": 5
}
