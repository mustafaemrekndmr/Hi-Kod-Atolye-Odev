{
 "cells": [
  {
   "cell_type": "code",
   "execution_count": 1,
   "id": "66d785dc",
   "metadata": {},
   "outputs": [],
   "source": [
    "Ahmet = 18\n",
    "Beril = 24\n",
    "Cemil = 35"
   ]
  },
  {
   "cell_type": "code",
   "execution_count": 2,
   "id": "a07ddaf8",
   "metadata": {},
   "outputs": [
    {
     "data": {
      "text/plain": [
       "False"
      ]
     },
     "execution_count": 2,
     "metadata": {},
     "output_type": "execute_result"
    }
   ],
   "source": [
    "Ahmet == Beril"
   ]
  },
  {
   "cell_type": "code",
   "execution_count": 3,
   "id": "c4fa0122",
   "metadata": {},
   "outputs": [
    {
     "data": {
      "text/plain": [
       "False"
      ]
     },
     "execution_count": 3,
     "metadata": {},
     "output_type": "execute_result"
    }
   ],
   "source": [
    "Ahmet == Cemil"
   ]
  },
  {
   "cell_type": "code",
   "execution_count": 4,
   "id": "336a0fb8",
   "metadata": {},
   "outputs": [
    {
     "data": {
      "text/plain": [
       "True"
      ]
     },
     "execution_count": 4,
     "metadata": {},
     "output_type": "execute_result"
    }
   ],
   "source": [
    "Beril < Cemil"
   ]
  },
  {
   "cell_type": "code",
   "execution_count": 5,
   "id": "b2c39715",
   "metadata": {},
   "outputs": [
    {
     "data": {
      "text/plain": [
       "False"
      ]
     },
     "execution_count": 5,
     "metadata": {},
     "output_type": "execute_result"
    }
   ],
   "source": [
    "Cemil < Ahmet"
   ]
  },
  {
   "cell_type": "code",
   "execution_count": 6,
   "id": "0326ae1c",
   "metadata": {},
   "outputs": [
    {
     "data": {
      "text/plain": [
       "True"
      ]
     },
     "execution_count": 6,
     "metadata": {},
     "output_type": "execute_result"
    }
   ],
   "source": [
    "Beril > Ahmet"
   ]
  },
  {
   "cell_type": "code",
   "execution_count": 7,
   "id": "64c38426",
   "metadata": {},
   "outputs": [
    {
     "data": {
      "text/plain": [
       "True"
      ]
     },
     "execution_count": 7,
     "metadata": {},
     "output_type": "execute_result"
    }
   ],
   "source": [
    "Cemil != Beril"
   ]
  },
  {
   "cell_type": "code",
   "execution_count": null,
   "id": "a4fd6538",
   "metadata": {},
   "outputs": [],
   "source": []
  }
 ],
 "metadata": {
  "kernelspec": {
   "display_name": "Python 3 (ipykernel)",
   "language": "python",
   "name": "python3"
  },
  "language_info": {
   "codemirror_mode": {
    "name": "ipython",
    "version": 3
   },
   "file_extension": ".py",
   "mimetype": "text/x-python",
   "name": "python",
   "nbconvert_exporter": "python",
   "pygments_lexer": "ipython3",
   "version": "3.11.7"
  }
 },
 "nbformat": 4,
 "nbformat_minor": 5
}
