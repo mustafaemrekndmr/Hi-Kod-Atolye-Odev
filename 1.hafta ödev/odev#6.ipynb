{
 "cells": [
  {
   "cell_type": "code",
   "execution_count": 17,
   "id": "d13ef409",
   "metadata": {},
   "outputs": [
    {
     "data": {
      "text/plain": [
       "list"
      ]
     },
     "execution_count": 17,
     "metadata": {},
     "output_type": "execute_result"
    }
   ],
   "source": [
    "nums = [0, 1, 2, 3, 4, 5, 6, 7, 8, 9]\n",
    "type(nums)"
   ]
  },
  {
   "cell_type": "code",
   "execution_count": 18,
   "id": "e6169a1f",
   "metadata": {},
   "outputs": [],
   "source": [
    "cift = []\n",
    "tek = []"
   ]
  },
  {
   "cell_type": "code",
   "execution_count": 19,
   "id": "b2a913f5",
   "metadata": {},
   "outputs": [],
   "source": [
    "for num in nums:\n",
    "    if num % 2 == 0:\n",
    "        cift.append(num)\n",
    "    elif num % 2 != 0:\n",
    "        tek.append(num)"
   ]
  },
  {
   "cell_type": "code",
   "execution_count": 20,
   "id": "b215dfa8",
   "metadata": {},
   "outputs": [
    {
     "data": {
      "text/plain": [
       "[0, 2, 4, 6, 8]"
      ]
     },
     "execution_count": 20,
     "metadata": {},
     "output_type": "execute_result"
    }
   ],
   "source": [
    "cift"
   ]
  },
  {
   "cell_type": "code",
   "execution_count": 21,
   "id": "132363c4",
   "metadata": {},
   "outputs": [
    {
     "data": {
      "text/plain": [
       "[1, 3, 5, 7, 9]"
      ]
     },
     "execution_count": 21,
     "metadata": {},
     "output_type": "execute_result"
    }
   ],
   "source": [
    "tek"
   ]
  }
 ],
 "metadata": {
  "kernelspec": {
   "display_name": "Python 3 (ipykernel)",
   "language": "python",
   "name": "python3"
  },
  "language_info": {
   "codemirror_mode": {
    "name": "ipython",
    "version": 3
   },
   "file_extension": ".py",
   "mimetype": "text/x-python",
   "name": "python",
   "nbconvert_exporter": "python",
   "pygments_lexer": "ipython3",
   "version": "3.11.7"
  }
 },
 "nbformat": 4,
 "nbformat_minor": 5
}
