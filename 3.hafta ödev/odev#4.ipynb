{
 "cells": [
  {
   "cell_type": "code",
   "execution_count": 1,
   "id": "1477d8a7",
   "metadata": {},
   "outputs": [
    {
     "name": "stdout",
     "output_type": "stream",
     "text": [
      "Kullanıcı adı: emre\n",
      "Şifre: 12345\n",
      "Girdiğiniz şifreyi kontrol ederek tekrar deneyiniz.\n",
      "Şifre: 12345\n",
      "Girdiğiniz şifreyi kontrol ederek tekrar deneyiniz.\n",
      "Şifre: 1235\n",
      "Girdiğiniz şifreyi kontrol ederek tekrar deneyiniz.\n",
      "3 kere hatalı giriş yaptınız lütfen müşteri temsilcisiyle iletişime geçin.\n"
     ]
    }
   ],
   "source": [
    "isim = input(\"Kullanıcı adı: \")\n",
    "key = \"147258\"\n",
    "hak = 3\n",
    "\n",
    "while hak > 0:\n",
    "    sifre = input(\"Şifre: \")\n",
    "    \n",
    "    if sifre == key:\n",
    "        print(\"HOŞGELDİNİZ!\")\n",
    "        break\n",
    "    else:\n",
    "        print(\"Girdiğiniz şifreyi kontrol ederek tekrar deneyiniz.\")\n",
    "        hak -= 1\n",
    "if hak == 0:\n",
    "    print(\"3 kere hatalı giriş yaptınız lütfen müşteri temsilcisiyle iletişime geçin.\")\n",
    "    "
   ]
  },
  {
   "cell_type": "code",
   "execution_count": null,
   "id": "db50a9a7",
   "metadata": {},
   "outputs": [],
   "source": []
  }
 ],
 "metadata": {
  "kernelspec": {
   "display_name": "Python 3 (ipykernel)",
   "language": "python",
   "name": "python3"
  },
  "language_info": {
   "codemirror_mode": {
    "name": "ipython",
    "version": 3
   },
   "file_extension": ".py",
   "mimetype": "text/x-python",
   "name": "python",
   "nbconvert_exporter": "python",
   "pygments_lexer": "ipython3",
   "version": "3.11.7"
  }
 },
 "nbformat": 4,
 "nbformat_minor": 5
}
