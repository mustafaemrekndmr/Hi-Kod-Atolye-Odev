{
 "cells": [
  {
   "cell_type": "code",
   "execution_count": 2,
   "id": "b0ae3b42",
   "metadata": {},
   "outputs": [
    {
     "name": "stdout",
     "output_type": "stream",
     "text": [
      "maaşınızı giriniz:17000\n",
      "Yeni maaşınız: 11900.0\n"
     ]
    }
   ],
   "source": [
    "maas = int(input(\"maaşınızı giriniz:\"))\n",
    "\n",
    "if maas <= 1000:\n",
    "    maas = (maas*95)/100\n",
    "    print(f\"Yeni maaşınız: {maas}\")\n",
    "    \n",
    "elif maas <= 2500:\n",
    "    maas = (maas*90)/100\n",
    "    print(f\"Yeni maaşınız : {maas}\")\n",
    "    \n",
    "elif maas <= 4500:\n",
    "    maas = (maas*75)/100\n",
    "    print(f\"Yeni maaşınız: {maas}\")\n",
    "    \n",
    "else:\n",
    "    maas = (maas*70)/100\n",
    "    print(f\"Yeni maaşınız: {maas}\")\n",
    "      "
   ]
  },
  {
   "cell_type": "code",
   "execution_count": null,
   "id": "4d3046ad",
   "metadata": {},
   "outputs": [],
   "source": []
  }
 ],
 "metadata": {
  "kernelspec": {
   "display_name": "Python 3 (ipykernel)",
   "language": "python",
   "name": "python3"
  },
  "language_info": {
   "codemirror_mode": {
    "name": "ipython",
    "version": 3
   },
   "file_extension": ".py",
   "mimetype": "text/x-python",
   "name": "python",
   "nbconvert_exporter": "python",
   "pygments_lexer": "ipython3",
   "version": "3.11.7"
  }
 },
 "nbformat": 4,
 "nbformat_minor": 5
}
