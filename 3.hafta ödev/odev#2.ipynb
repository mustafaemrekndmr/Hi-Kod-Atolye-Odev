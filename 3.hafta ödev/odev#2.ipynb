{
 "cells": [
  {
   "cell_type": "code",
   "execution_count": 3,
   "id": "6716e599",
   "metadata": {},
   "outputs": [
    {
     "name": "stdout",
     "output_type": "stream",
     "text": [
      "Kullanıcı adınızı oluşturun:emre\n",
      "Lütfen 6 haneden oluşan bir şifre oluşturun:1234568\n",
      "Şifre oluşturma işlemi başarısız. Lütfen tekrar deneyiniz\n"
     ]
    }
   ],
   "source": [
    "username = input(\"Kullanıcı adınızı oluşturun:\")\n",
    "password = input(\"Lütfen 6 haneden oluşan bir şifre oluşturun:\")\n",
    "\n",
    "if len(password) == 6:\n",
    "    print(\"Şifreniz başarıyla oluşturuldu!\")\n",
    "\n",
    "elif len(password) < 6:\n",
    "    print(\"Lütfen 6 haneden oluşan bir şifre oluşturarak tekrar deneyiniz.\")\n",
    "    \n",
    "else:\n",
    "    print(\"Şifre oluşturma işlemi başarısız. Lütfen tekrar deneyiniz\")"
   ]
  },
  {
   "cell_type": "code",
   "execution_count": null,
   "id": "fd1f688b",
   "metadata": {},
   "outputs": [],
   "source": []
  }
 ],
 "metadata": {
  "kernelspec": {
   "display_name": "Python 3 (ipykernel)",
   "language": "python",
   "name": "python3"
  },
  "language_info": {
   "codemirror_mode": {
    "name": "ipython",
    "version": 3
   },
   "file_extension": ".py",
   "mimetype": "text/x-python",
   "name": "python",
   "nbconvert_exporter": "python",
   "pygments_lexer": "ipython3",
   "version": "3.11.7"
  }
 },
 "nbformat": 4,
 "nbformat_minor": 5
}
