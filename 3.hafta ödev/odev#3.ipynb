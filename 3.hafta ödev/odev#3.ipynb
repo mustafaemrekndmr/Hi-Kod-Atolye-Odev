{
 "cells": [
  {
   "cell_type": "code",
   "execution_count": 6,
   "id": "28b17312",
   "metadata": {
    "scrolled": true
   },
   "outputs": [
    {
     "name": "stdout",
     "output_type": "stream",
     "text": [
      "Kullanıcı adınızı oluşturun:emre\n",
      "Lütfen en az 5 en fazla 10 haneden oluşan bir şifre oluşturun:1234\n",
      "Lütfen koşulları sağlayan bir şifre belirleyin\n",
      "Kullanıcı adınızı oluşturun:emre\n",
      "Lütfen en az 5 en fazla 10 haneden oluşan bir şifre oluşturun:123456\n",
      "Hesabınız başarıyla oluşturuldu.\n"
     ]
    }
   ],
   "source": [
    "def hesap_olusturma ():\n",
    "    username = input(\"Kullanıcı adınızı oluşturun:\")\n",
    "    password = input(\"Lütfen en az 5 en fazla 10 haneden oluşan bir şifre oluşturun:\")\n",
    "\n",
    "    if (10 > len(password)) and (len(password) > 5):\n",
    "        print(\"Hesabınız başarıyla oluşturuldu.\")\n",
    "    else:\n",
    "        print(\"Lütfen koşulları sağlayan bir şifre belirleyin\")\n",
    "        hesap_olusturma()\n",
    "        \n",
    "hesap_olusturma()"
   ]
  },
  {
   "cell_type": "code",
   "execution_count": null,
   "id": "51d89495",
   "metadata": {},
   "outputs": [],
   "source": []
  }
 ],
 "metadata": {
  "kernelspec": {
   "display_name": "Python 3 (ipykernel)",
   "language": "python",
   "name": "python3"
  },
  "language_info": {
   "codemirror_mode": {
    "name": "ipython",
    "version": 3
   },
   "file_extension": ".py",
   "mimetype": "text/x-python",
   "name": "python",
   "nbconvert_exporter": "python",
   "pygments_lexer": "ipython3",
   "version": "3.11.7"
  }
 },
 "nbformat": 4,
 "nbformat_minor": 5
}
