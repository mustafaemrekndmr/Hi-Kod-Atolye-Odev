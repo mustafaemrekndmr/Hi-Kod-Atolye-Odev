{
 "cells": [
  {
   "cell_type": "code",
   "execution_count": 5,
   "id": "6ebc9683",
   "metadata": {},
   "outputs": [
    {
     "name": "stdout",
     "output_type": "stream",
     "text": [
      "Dairenin yarıçapı: 3\n",
      "Dairenin alanı: 27.0\n"
     ]
    }
   ],
   "source": [
    "def daire_alan():\n",
    "    pi = 3.00\n",
    "    r = int(input(\"Dairenin yarıçapı: \"))\n",
    "    alan = pi* (r**2)\n",
    "    return alan\n",
    "\n",
    "alan = daire_alan()\n",
    "print(f\"Dairenin alanı: {alan}\")"
   ]
  },
  {
   "cell_type": "code",
   "execution_count": null,
   "id": "f33c0ee2",
   "metadata": {},
   "outputs": [],
   "source": []
  }
 ],
 "metadata": {
  "kernelspec": {
   "display_name": "Python 3 (ipykernel)",
   "language": "python",
   "name": "python3"
  },
  "language_info": {
   "codemirror_mode": {
    "name": "ipython",
    "version": 3
   },
   "file_extension": ".py",
   "mimetype": "text/x-python",
   "name": "python",
   "nbconvert_exporter": "python",
   "pygments_lexer": "ipython3",
   "version": "3.11.7"
  }
 },
 "nbformat": 4,
 "nbformat_minor": 5
}
