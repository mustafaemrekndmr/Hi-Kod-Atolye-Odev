{
 "cells": [
  {
   "cell_type": "code",
   "execution_count": 10,
   "id": "2c1721ac",
   "metadata": {},
   "outputs": [],
   "source": [
    "def faktoriyel(n):\n",
    "    fak = 1\n",
    "    if n > 0:\n",
    "        for i in range(1, n+1):\n",
    "            fak *= i\n",
    "    print(fak)"
   ]
  },
  {
   "cell_type": "code",
   "execution_count": 11,
   "id": "59bbcedb",
   "metadata": {},
   "outputs": [
    {
     "name": "stdout",
     "output_type": "stream",
     "text": [
      "120\n"
     ]
    }
   ],
   "source": [
    "faktoriyel(5)"
   ]
  },
  {
   "cell_type": "code",
   "execution_count": 12,
   "id": "47ab284a",
   "metadata": {},
   "outputs": [
    {
     "name": "stdout",
     "output_type": "stream",
     "text": [
      "6402373705728000\n"
     ]
    }
   ],
   "source": [
    "faktoriyel(18)"
   ]
  },
  {
   "cell_type": "code",
   "execution_count": null,
   "id": "f6abc21a",
   "metadata": {},
   "outputs": [],
   "source": []
  }
 ],
 "metadata": {
  "kernelspec": {
   "display_name": "Python 3 (ipykernel)",
   "language": "python",
   "name": "python3"
  },
  "language_info": {
   "codemirror_mode": {
    "name": "ipython",
    "version": 3
   },
   "file_extension": ".py",
   "mimetype": "text/x-python",
   "name": "python",
   "nbconvert_exporter": "python",
   "pygments_lexer": "ipython3",
   "version": "3.11.7"
  }
 },
 "nbformat": 4,
 "nbformat_minor": 5
}
