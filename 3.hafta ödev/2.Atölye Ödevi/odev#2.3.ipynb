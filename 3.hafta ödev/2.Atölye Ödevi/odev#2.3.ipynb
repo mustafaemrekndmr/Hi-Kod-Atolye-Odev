{
 "cells": [
  {
   "cell_type": "code",
   "execution_count": 1,
   "id": "5db198ec",
   "metadata": {},
   "outputs": [],
   "source": [
    "def yashesaplama():\n",
    "    n = int(input(\"Doğum Yılınızı Giriniz:\"))\n",
    "    yas = 2024 - n\n",
    "    print(f\"{yas} Yaşınızdasınız.\")"
   ]
  },
  {
   "cell_type": "code",
   "execution_count": 2,
   "id": "041d6c41",
   "metadata": {},
   "outputs": [
    {
     "name": "stdout",
     "output_type": "stream",
     "text": [
      "Doğum Yılınızı Giriniz:2004\n",
      "20 Yaşınızdasınız.\n"
     ]
    }
   ],
   "source": [
    "yashesaplama()"
   ]
  },
  {
   "cell_type": "code",
   "execution_count": 3,
   "id": "cf18d069",
   "metadata": {},
   "outputs": [
    {
     "name": "stdout",
     "output_type": "stream",
     "text": [
      "Doğum Yılınızı Giriniz:1881\n",
      "143 Yaşınızdasınız.\n"
     ]
    }
   ],
   "source": [
    "yashesaplama()"
   ]
  },
  {
   "cell_type": "code",
   "execution_count": 4,
   "id": "5c76bf52",
   "metadata": {},
   "outputs": [
    {
     "name": "stdout",
     "output_type": "stream",
     "text": [
      "Doğum Yılınızı Giriniz:1977\n",
      "47 Yaşınızdasınız.\n"
     ]
    }
   ],
   "source": [
    "yashesaplama()"
   ]
  },
  {
   "cell_type": "code",
   "execution_count": null,
   "id": "a21c53f4",
   "metadata": {},
   "outputs": [],
   "source": []
  }
 ],
 "metadata": {
  "kernelspec": {
   "display_name": "Python 3 (ipykernel)",
   "language": "python",
   "name": "python3"
  },
  "language_info": {
   "codemirror_mode": {
    "name": "ipython",
    "version": 3
   },
   "file_extension": ".py",
   "mimetype": "text/x-python",
   "name": "python",
   "nbconvert_exporter": "python",
   "pygments_lexer": "ipython3",
   "version": "3.11.7"
  }
 },
 "nbformat": 4,
 "nbformat_minor": 5
}
