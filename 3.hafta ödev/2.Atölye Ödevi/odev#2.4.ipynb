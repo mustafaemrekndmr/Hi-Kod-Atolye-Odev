{
 "cells": [
  {
   "cell_type": "code",
   "execution_count": 7,
   "id": "3373f0ef",
   "metadata": {},
   "outputs": [],
   "source": [
    "def yas_hesaplama(dogum_yılı):\n",
    "    n = int(dogum_yılı)\n",
    "    yas = 2024 - n\n",
    "    return yas\n",
    "\n",
    "def emeklilik_sorgulama(dogum_yılı, isim):\n",
    "    \n",
    "    yas = yas_hesaplama(dogum_yılı)\n",
    "    \n",
    "    if yas >= 65:\n",
    "        print(f\"Sayın {isim},\\n Emekli oldunuz.\")\n",
    "    else:\n",
    "        kalan = (65 - yas)\n",
    "        print(f\"Sayın {isim},\\n Emekliliğinize {kalan} yıl kalmıştır.\")"
   ]
  },
  {
   "cell_type": "code",
   "execution_count": 10,
   "id": "b2a577a4",
   "metadata": {},
   "outputs": [
    {
     "name": "stdout",
     "output_type": "stream",
     "text": [
      "Sayın Mustafa Emre,\n",
      " Emekliliğinize 45 yıl kalmıştır.\n"
     ]
    }
   ],
   "source": [
    "emeklilik_sorgulama(2004, \"Mustafa Emre\")"
   ]
  },
  {
   "cell_type": "code",
   "execution_count": null,
   "id": "a3f19267",
   "metadata": {},
   "outputs": [],
   "source": []
  }
 ],
 "metadata": {
  "kernelspec": {
   "display_name": "Python 3 (ipykernel)",
   "language": "python",
   "name": "python3"
  },
  "language_info": {
   "codemirror_mode": {
    "name": "ipython",
    "version": 3
   },
   "file_extension": ".py",
   "mimetype": "text/x-python",
   "name": "python",
   "nbconvert_exporter": "python",
   "pygments_lexer": "ipython3",
   "version": "3.11.7"
  }
 },
 "nbformat": 4,
 "nbformat_minor": 5
}
