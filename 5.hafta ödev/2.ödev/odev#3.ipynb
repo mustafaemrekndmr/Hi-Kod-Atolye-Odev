{
 "cells": [
  {
   "cell_type": "code",
   "execution_count": 1,
   "id": "f1cef163",
   "metadata": {},
   "outputs": [],
   "source": [
    "import numpy as np"
   ]
  },
  {
   "cell_type": "code",
   "execution_count": 19,
   "id": "82f5c144",
   "metadata": {},
   "outputs": [
    {
     "data": {
      "text/plain": [
       "array([10, 20, 30, 40, 50])"
      ]
     },
     "execution_count": 19,
     "metadata": {},
     "output_type": "execute_result"
    }
   ],
   "source": [
    "array1 = np.array([10, 20, 30, 40, 50])\n",
    "array1"
   ]
  },
  {
   "cell_type": "code",
   "execution_count": 20,
   "id": "f90942c8",
   "metadata": {},
   "outputs": [
    {
     "data": {
      "text/plain": [
       "30"
      ]
     },
     "execution_count": 20,
     "metadata": {},
     "output_type": "execute_result"
    }
   ],
   "source": [
    "array1[2]"
   ]
  },
  {
   "cell_type": "code",
   "execution_count": 21,
   "id": "0e8d1530",
   "metadata": {
    "scrolled": true
   },
   "outputs": [
    {
     "data": {
      "text/plain": [
       "array([50, 40, 30, 20, 10])"
      ]
     },
     "execution_count": 21,
     "metadata": {},
     "output_type": "execute_result"
    }
   ],
   "source": [
    "array1[::-1]"
   ]
  },
  {
   "cell_type": "code",
   "execution_count": null,
   "id": "33b15ef8",
   "metadata": {},
   "outputs": [],
   "source": [
    "array2 = np.array([[10, 20, 30, 40, 50],\n",
    "                   [60, 70, 80, 90, 95]])\n",
    "array2"
   ]
  },
  {
   "cell_type": "code",
   "execution_count": 23,
   "id": "28be14e9",
   "metadata": {},
   "outputs": [
    {
     "data": {
      "text/plain": [
       "90"
      ]
     },
     "execution_count": 23,
     "metadata": {},
     "output_type": "execute_result"
    }
   ],
   "source": [
    "array2[1,3]"
   ]
  },
  {
   "cell_type": "code",
   "execution_count": 24,
   "id": "bbce64a1",
   "metadata": {
    "scrolled": true
   },
   "outputs": [
    {
     "data": {
      "text/plain": [
       "array([[30],\n",
       "       [80]])"
      ]
     },
     "execution_count": 24,
     "metadata": {},
     "output_type": "execute_result"
    }
   ],
   "source": [
    "array2[:,2:3]"
   ]
  },
  {
   "cell_type": "code",
   "execution_count": 25,
   "id": "6f6f5e99",
   "metadata": {},
   "outputs": [
    {
     "data": {
      "text/plain": [
       "array([[[ 5,  7,  9, 11],\n",
       "        [13, 15, 17, 19]],\n",
       "\n",
       "       [[21, 23, 25, 27],\n",
       "        [29, 31, 33, 35]],\n",
       "\n",
       "       [[37, 39, 41, 43],\n",
       "        [45, 47, 49, 51]]])"
      ]
     },
     "execution_count": 25,
     "metadata": {},
     "output_type": "execute_result"
    }
   ],
   "source": [
    "array3 = np.array([[[5, 7, 9, 11],\n",
    "                    [13, 15, 17, 19]],\n",
    "                   \n",
    "                  [[21, 23, 25, 27],\n",
    "                   [29, 31, 33, 35]],\n",
    "                   \n",
    "                  [[37, 39, 41, 43],\n",
    "                   [45, 47, 49, 51]]])\n",
    "array3"
   ]
  },
  {
   "cell_type": "code",
   "execution_count": 26,
   "id": "bc2776b1",
   "metadata": {},
   "outputs": [
    {
     "data": {
      "text/plain": [
       "25"
      ]
     },
     "execution_count": 26,
     "metadata": {},
     "output_type": "execute_result"
    }
   ],
   "source": [
    "array3[1, 0, 2]"
   ]
  },
  {
   "cell_type": "code",
   "execution_count": 27,
   "id": "7a86abee",
   "metadata": {},
   "outputs": [
    {
     "data": {
      "text/plain": [
       "array([[[ 9]],\n",
       "\n",
       "       [[25]]])"
      ]
     },
     "execution_count": 27,
     "metadata": {},
     "output_type": "execute_result"
    }
   ],
   "source": [
    "array3[0:2, 0:1, 2:3]"
   ]
  },
  {
   "cell_type": "code",
   "execution_count": null,
   "id": "7ecc5022",
   "metadata": {},
   "outputs": [],
   "source": []
  }
 ],
 "metadata": {
  "kernelspec": {
   "display_name": "Python 3 (ipykernel)",
   "language": "python",
   "name": "python3"
  },
  "language_info": {
   "codemirror_mode": {
    "name": "ipython",
    "version": 3
   },
   "file_extension": ".py",
   "mimetype": "text/x-python",
   "name": "python",
   "nbconvert_exporter": "python",
   "pygments_lexer": "ipython3",
   "version": "3.11.7"
  }
 },
 "nbformat": 4,
 "nbformat_minor": 5
}
