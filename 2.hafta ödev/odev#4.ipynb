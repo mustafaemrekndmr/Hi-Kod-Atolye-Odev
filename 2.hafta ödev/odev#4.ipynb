{
 "cells": [
  {
   "cell_type": "code",
   "execution_count": 10,
   "id": "23347f3d",
   "metadata": {},
   "outputs": [
    {
     "name": "stdout",
     "output_type": "stream",
     "text": [
      "Adınızı giriniz: Mustafa Emre\n",
      "Yaşınızı giriniz: 20\n",
      "Yaşadığınız şehri giriniz: İstanbul\n",
      "Mesleğinizi giriniz: Öğrenci\n"
     ]
    }
   ],
   "source": [
    "isim = input(\"Adınızı giriniz: \")\n",
    "yas = input(\"Yaşınızı giriniz: \")\n",
    "sehir = input(\"Yaşadığınız şehri giriniz: \")\n",
    "meslek = input(\"Mesleğinizi giriniz: \")"
   ]
  },
  {
   "cell_type": "code",
   "execution_count": 11,
   "id": "374a24d5",
   "metadata": {
    "scrolled": true
   },
   "outputs": [
    {
     "name": "stdout",
     "output_type": "stream",
     "text": [
      "Adı: Mustafa Emre\n",
      "\n",
      "Yaşı: 20\n",
      "\n",
      "Yaşadığı Şehir: İstanbul\n",
      "\n",
      "Mesleği: Öğrenci\n"
     ]
    }
   ],
   "source": [
    "print(f\"Adı: {isim}\\n\")\n",
    "print(f\"Yaşı: {yas}\\n\")\n",
    "print(f\"Yaşadığı Şehir: {sehir}\\n\")\n",
    "print(f\"Mesleği: {meslek}\")"
   ]
  },
  {
   "cell_type": "code",
   "execution_count": null,
   "id": "1e83f83b",
   "metadata": {},
   "outputs": [],
   "source": []
  }
 ],
 "metadata": {
  "kernelspec": {
   "display_name": "Python 3 (ipykernel)",
   "language": "python",
   "name": "python3"
  },
  "language_info": {
   "codemirror_mode": {
    "name": "ipython",
    "version": 3
   },
   "file_extension": ".py",
   "mimetype": "text/x-python",
   "name": "python",
   "nbconvert_exporter": "python",
   "pygments_lexer": "ipython3",
   "version": "3.11.7"
  }
 },
 "nbformat": 4,
 "nbformat_minor": 5
}
